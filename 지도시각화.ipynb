{
 "cells": [
  {
   "cell_type": "code",
   "execution_count": 1,
   "metadata": {},
   "outputs": [
    {
     "name": "stdout",
     "output_type": "stream",
     "text": [
      "Collecting folium\n",
      "  Downloading folium-0.14.0-py2.py3-none-any.whl (102 kB)\n",
      "\u001b[2K     \u001b[90m━━━━━━━━━━━━━━━━━━━━━━━━━━━━━━━━━━━━━━━\u001b[0m \u001b[32m102.3/102.3 kB\u001b[0m \u001b[31m2.0 MB/s\u001b[0m eta \u001b[36m0:00:00\u001b[0ma \u001b[36m0:00:01\u001b[0m\n",
      "\u001b[?25hCollecting branca>=0.6.0\n",
      "  Downloading branca-0.6.0-py3-none-any.whl (24 kB)\n",
      "Requirement already satisfied: numpy in /Users/hanyoungwook/opt/anaconda3/envs/2023-DS-B/lib/python3.10/site-packages (from folium) (1.24.2)\n",
      "Requirement already satisfied: requests in /Users/hanyoungwook/opt/anaconda3/envs/2023-DS-B/lib/python3.10/site-packages (from folium) (2.28.1)\n",
      "Requirement already satisfied: jinja2>=2.9 in /Users/hanyoungwook/opt/anaconda3/envs/2023-DS-B/lib/python3.10/site-packages (from folium) (3.1.2)\n",
      "Requirement already satisfied: MarkupSafe>=2.0 in /Users/hanyoungwook/opt/anaconda3/envs/2023-DS-B/lib/python3.10/site-packages (from jinja2>=2.9->folium) (2.1.1)\n",
      "Requirement already satisfied: urllib3<1.27,>=1.21.1 in /Users/hanyoungwook/opt/anaconda3/envs/2023-DS-B/lib/python3.10/site-packages (from requests->folium) (1.26.14)\n",
      "Requirement already satisfied: charset-normalizer<3,>=2 in /Users/hanyoungwook/opt/anaconda3/envs/2023-DS-B/lib/python3.10/site-packages (from requests->folium) (2.0.4)\n",
      "Requirement already satisfied: certifi>=2017.4.17 in /Users/hanyoungwook/opt/anaconda3/envs/2023-DS-B/lib/python3.10/site-packages (from requests->folium) (2022.12.7)\n",
      "Requirement already satisfied: idna<4,>=2.5 in /Users/hanyoungwook/opt/anaconda3/envs/2023-DS-B/lib/python3.10/site-packages (from requests->folium) (3.4)\n",
      "Installing collected packages: branca, folium\n",
      "Successfully installed branca-0.6.0 folium-0.14.0\n"
     ]
    }
   ],
   "source": [
    "!pip install folium\n"
   ]
  },
  {
   "cell_type": "code",
   "execution_count": 5,
   "metadata": {},
   "outputs": [],
   "source": [
    "import folium\n",
    "import pandas as pd"
   ]
  },
  {
   "cell_type": "code",
   "execution_count": 7,
   "metadata": {},
   "outputs": [],
   "source": [
    "\n",
    "# CSV 파일 경로\n",
    "csv_file = \"seoul_subway_station_information.csv\"\n",
    "\n",
    "# CSV 파일 읽기\n",
    "data = pd.read_csv(csv_file)\n",
    "\n",
    "# NaN 값을 제거\n",
    "data = data.dropna(subset=[\"x_coordinate\", \"y_coordinate\"])\n",
    "\n",
    "# 지도 생성\n",
    "m = folium.Map(location=[37.5, 127], zoom_start=10)\n",
    "\n",
    "# 데이터에서 GPS 좌표를 사용하여 마커 생성\n",
    "for index, row in data.iterrows():\n",
    "    station_name = row[\"subway_station_name\"]\n",
    "    latitude = row[\"x_coordinate\"]\n",
    "    longitude = row[\"y_coordinate\"]\n",
    "\n",
    "    folium.Marker(\n",
    "        location=[latitude, longitude],\n",
    "        popup=station_name,\n",
    "    ).add_to(m)\n",
    "\n",
    "# 지도를 HTML 파일로 저장\n",
    "m.save(\"seoul_subway_map.html\")\n",
    "\n"
   ]
  },
  {
   "cell_type": "code",
   "execution_count": 9,
   "metadata": {},
   "outputs": [],
   "source": [
    "\n",
    "# CSV 파일 경로\n",
    "csv_file = \"seoul_subway_station_information.csv\"\n",
    "\n",
    "# 원하는 역 번호 목록\n",
    "desired_station_numbers = [\n",
    "    150, 151, 152, 153, 154, 155, 156, 157, 158, 159, 201, 202, 203, 204, 205, 206, 207, 208, 209, 210,\n",
    "    211, 212, 213, 214, 215, 216, 217, 218, 219, 220, 221, 222, 223, 224, 225, 226, 227, 228, 229, 230, 231,\n",
    "    232, 233, 234, 235, 236, 237, 238, 239, 240, 241, 242, 243, 244, 245, 246, 247, 248, 249, 250, 309, 310,\n",
    "    311, 312, 313, 314, 315, 316, 317, 318, 319, 320, 322, 323, 324, 325, 326, 327, 328, 329, 330, 331, 332,\n",
    "    333, 334, 335, 336, 337, 338, 339, 340, 341, 342, 409, 410, 411, 412, 413, 414, 415, 416, 417, 418, 419,\n",
    "    420, 421, 422, 423, 424, 425, 426, 427, 428, 429, 430, 431, 432, 433, 434,\n",
    "    2511, 2512, 2513, 2514, 2515, 2516, 2517, 2518, 2519, 2520, 2521, 2522, 2523, 2524, 2525, 2526, 2527, 2528, 2529, 2530,\n",
    "    2531, 2532, 2533, 2534, 2535, 2536, 2537, 2538, 2539, 2540, 2541, 2542, 2543, 2544, 2545, 2546, 2547, 2548, 2549, 2550,\n",
    "    2551, 2552, 2553, 2554, 2555, 2556, 2557, 2558, 2559, 2560, 2561, 2611, 2612, 2613, 2614, 2616, 2617, 2618, 2619, 2620, 2621,\n",
    "    2622, 2623, 2624, 2625, 2626, 2627, 2628, 2629, 2630, 2631, 2632, 2633, 2634, 2635, 2636, 2637, 2638, 2639, 2640, 2641, 2642,\n",
    "    2643, 2644, 2645, 2646, 2647, 2648, 2711, 2712, 2713, 2714, 2715, 2716, 2717, 2718, 2719, 2720, 2721, 2722, 2723, 2724, 2725,\n",
    "    2726, 2727, 2728, 2729, 2730, 2731, 2732, 2733, 2734, 2735, 2736, 2737, 2738, 2739, 2740, 2741, 2742, 2743, 2744, 2745, 2746,\n",
    "    2747, 2748, 2749, 2750, 2751, 2752, 2753, 2754, 2755, 2756, 2757, 2758, 2759, 2760, 2761, 2811, 2812, 2813, 2814, 2815, 2816,\n",
    "    2817, 2818, 2819, 2820, 2821, 2822, 2823, 2824, 2825, 2826, 2827\n",
    "]\n",
    "\n",
    "# CSV 파일 읽기\n",
    "data = pd.read_csv(csv_file)\n",
    "\n",
    "# 원하는 역 번호에 해당하는 데이터 추출\n",
    "filtered_data = data[data['subway_station_code'].isin(desired_station_numbers)]\n",
    "\n",
    "# 지도 생성\n",
    "m = folium.Map(location=[37.5, 127], zoom_start=10)\n",
    "\n",
    "# 추출한 데이터에서 GPS 좌표를 사용하여 마커 생성\n",
    "for index, row in filtered_data.iterrows():\n",
    "    station_name = row[\"subway_station_name\"]\n",
    "    latitude = row[\"x_xgs\"]\n",
    "    longitude = row[\"y_xgs\"]\n",
    "\n",
    "    folium.Marker(\n",
    "        location=[latitude, longitude],\n",
    "        popup=station_name,\n",
    "    ).add_to(m)\n",
    "\n",
    "# 지도를 HTML 파일로 저장\n",
    "m.save(\"seoul_subway_map.html\")\n"
   ]
  }
 ],
 "metadata": {
  "interpreter": {
   "hash": "a972df322b8130548dd1cd3e70c29a5e4681f16b95aba4cfe2a3c74d0186927a"
  },
  "kernelspec": {
   "display_name": "Python 3.10.9 ('2023-DS-B')",
   "language": "python",
   "name": "python3"
  },
  "language_info": {
   "codemirror_mode": {
    "name": "ipython",
    "version": 3
   },
   "file_extension": ".py",
   "mimetype": "text/x-python",
   "name": "python",
   "nbconvert_exporter": "python",
   "pygments_lexer": "ipython3",
   "version": "3.10.9"
  },
  "orig_nbformat": 4
 },
 "nbformat": 4,
 "nbformat_minor": 2
}
